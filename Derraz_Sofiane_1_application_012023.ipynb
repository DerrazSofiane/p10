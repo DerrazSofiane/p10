{
 "cells": [
  {
   "cell_type": "markdown",
   "id": "59c6a25e",
   "metadata": {
    "toc": true
   },
   "source": [
    "<h1>Table des Matières<span class=\"tocSkip\"></span></h1>\n",
    "<div class=\"toc\"><ul class=\"toc-item\"><li><span><a href=\"#Présentation\" data-toc-modified-id=\"Présentation-1\"><span class=\"toc-item-num\">1&nbsp;&nbsp;</span>Présentation</a></span></li><li><span><a href=\"#Import-des-librairies\" data-toc-modified-id=\"Import-des-librairies-2\"><span class=\"toc-item-num\">2&nbsp;&nbsp;</span>Import des librairies</a></span></li><li><span><a href=\"#Chargement-des-données\" data-toc-modified-id=\"Chargement-des-données-3\"><span class=\"toc-item-num\">3&nbsp;&nbsp;</span>Chargement des données</a></span></li><li><span><a href=\"#Analyse-Exploratoire-des-données\" data-toc-modified-id=\"Analyse-Exploratoire-des-données-4\"><span class=\"toc-item-num\">4&nbsp;&nbsp;</span>Analyse Exploratoire des données</a></span><ul class=\"toc-item\"><li><span><a href=\"#Satisfaction-moyenne-des-utilisateurs\" data-toc-modified-id=\"Satisfaction-moyenne-des-utilisateurs-4.1\"><span class=\"toc-item-num\">4.1&nbsp;&nbsp;</span>Satisfaction moyenne des utilisateurs</a></span></li><li><span><a href=\"#Taux-de-succès-du-dialogue-(selon-l'assistant)\" data-toc-modified-id=\"Taux-de-succès-du-dialogue-(selon-l'assistant)-4.2\"><span class=\"toc-item-num\">4.2&nbsp;&nbsp;</span>Taux de succès du dialogue (selon l'assistant)</a></span></li><li><span><a href=\"#Exemple-de-dialogue-avec-l'assistant\" data-toc-modified-id=\"Exemple-de-dialogue-avec-l'assistant-4.3\"><span class=\"toc-item-num\">4.3&nbsp;&nbsp;</span>Exemple de dialogue avec l'assistant</a></span></li><li><span><a href=\"#Répartition-des-labels-dans-le-jeu-de-données\" data-toc-modified-id=\"Répartition-des-labels-dans-le-jeu-de-données-4.4\"><span class=\"toc-item-num\">4.4&nbsp;&nbsp;</span>Répartition des labels dans le jeu de données</a></span></li></ul></li><li><span><a href=\"#Application-Luis\" data-toc-modified-id=\"Application-Luis-5\"><span class=\"toc-item-num\">5&nbsp;&nbsp;</span>Application Luis</a></span><ul class=\"toc-item\"><li><span><a href=\"#Création-des-variables-pour-l'application\" data-toc-modified-id=\"Création-des-variables-pour-l'application-5.1\"><span class=\"toc-item-num\">5.1&nbsp;&nbsp;</span>Création des variables pour l'application</a></span></li><li><span><a href=\"#Authentifier-le-client\" data-toc-modified-id=\"Authentifier-le-client-5.2\"><span class=\"toc-item-num\">5.2&nbsp;&nbsp;</span>Authentifier le client</a></span></li><li><span><a href=\"#Création-de-l'application-Luis\" data-toc-modified-id=\"Création-de-l'application-Luis-5.3\"><span class=\"toc-item-num\">5.3&nbsp;&nbsp;</span>Création de l'application Luis</a></span></li><li><span><a href=\"#Créer-des-intention-pour-l’application\" data-toc-modified-id=\"Créer-des-intention-pour-l’application-5.4\"><span class=\"toc-item-num\">5.4&nbsp;&nbsp;</span>Créer des intention pour l’application</a></span></li><li><span><a href=\"#Créer-des-entités-pour-l'application\" data-toc-modified-id=\"Créer-des-entités-pour-l'application-5.5\"><span class=\"toc-item-num\">5.5&nbsp;&nbsp;</span>Créer des entités pour l'application</a></span></li><li><span><a href=\"#Mise-en-forme-des-données\" data-toc-modified-id=\"Mise-en-forme-des-données-5.6\"><span class=\"toc-item-num\">5.6&nbsp;&nbsp;</span>Mise en forme des données</a></span></li><li><span><a href=\"#Ajout-d'énoncés-d'entraînement-à-Luis\" data-toc-modified-id=\"Ajout-d'énoncés-d'entraînement-à-Luis-5.7\"><span class=\"toc-item-num\">5.7&nbsp;&nbsp;</span>Ajout d'énoncés d'entraînement à Luis</a></span></li><li><span><a href=\"#Entraînement-du-modèle\" data-toc-modified-id=\"Entraînement-du-modèle-5.8\"><span class=\"toc-item-num\">5.8&nbsp;&nbsp;</span>Entraînement du modèle</a></span></li><li><span><a href=\"#Publier-une-application-dans-l’emplacement-de-production\" data-toc-modified-id=\"Publier-une-application-dans-l’emplacement-de-production-5.9\"><span class=\"toc-item-num\">5.9&nbsp;&nbsp;</span>Publier une application dans l’emplacement de production</a></span></li><li><span><a href=\"#Authentifier-le-client-du-runtime-de-prédiction\" data-toc-modified-id=\"Authentifier-le-client-du-runtime-de-prédiction-5.10\"><span class=\"toc-item-num\">5.10&nbsp;&nbsp;</span>Authentifier le client du runtime de prédiction</a></span></li><li><span><a href=\"#Obtenir-une-prédiction-du-modèle\" data-toc-modified-id=\"Obtenir-une-prédiction-du-modèle-5.11\"><span class=\"toc-item-num\">5.11&nbsp;&nbsp;</span>Obtenir une prédiction du modèle</a></span></li><li><span><a href=\"#Évaluation-du-modèle\" data-toc-modified-id=\"Évaluation-du-modèle-5.12\"><span class=\"toc-item-num\">5.12&nbsp;&nbsp;</span>Évaluation du modèle</a></span></li></ul></li></ul></div>"
   ]
  },
  {
   "cell_type": "markdown",
   "id": "b9255176",
   "metadata": {},
   "source": [
    "# Présentation\n",
    "\n",
    "Lisa, la product manager de Fly Me, souhaite que soit développé un MVP pour un chatbot destiné à aider les employés de l'entreprise à réserver facilement un billet d'avion pour leurs vacances.\n",
    "\n",
    "Pour cela, il faut être en mesure d'identifier dans la demande de l'utilisateur les éléments suivants : la ville de départ, la ville de destination, la date souhaitée du vol aller, la date souhaitée du vol retour, et le budget maximum pour le prix total des billets. Si un de ces éléments est manquant, le chatbot devra poser les questions pertinentes pour comprendre complètement la demande de l'utilisateur, et reformuler cette demande avant de demander à l'utilisateur de valider sa compréhension.\n",
    "\n",
    "Pour réaliser ce MVP, nous allons utiliser le jeu de données fourni, ainsi que les outils suivants : le framework de développement Python de **Microsoft Bot**, le **service cognitif LUIS** d'Azure, le service **Web App** d'Azure, et le service **QnA Maker** d'Azure.\n",
    "\n",
    "Voici les étapes en détails pour commencer :\n",
    "\n",
    "1. Créer un compte Azure et activer le service Cognitif LUIS. Suivre les instructions de cette documentation pour s'inscrire et activer le service : https://docs.microsoft.com/fr-fr/azure/cognitive-services/luis/luis-get-started-create-app?tabs=azure-portal\n",
    "\n",
    "\n",
    "2. Créer un modèle de compréhension du langage dans LUIS. Utiliser l'interface en ligne de LUIS pour créer et entraîner un modèle personnalisé qui sera capable de comprendre les intentions et les entités du chatbot. Suivre les instructions de cette documentation pour créer son premier modèle : https://docs.microsoft.com/fr-fr/azure/cognitive-services/luis/luis-get-started-create-app?tabs=azure-portal#build-and-train-your-app. Utiliser l'interface permettra de comprendre plus facilement l'environnement de LUIS.\n",
    "\n",
    "\n",
    "3. Une fois l'environnement maîtrisé, développer un chatbot avec Python et le framework Bot Framework. Le framework Bot Framework fournit un ensemble d'outils et de bibliothèques Python pour créer facilement un chatbot qui peut être déployé sur différentes plateformes (comme Skype, Slack, Facebook Messenger, etc.). Suivre les instructions de cette documentation pour développer un chatbot avec Python : https://docs.microsoft.com/fr-fr/azure/bot-service/python/bot-builder-python-quickstart?tabs=aio\n",
    "\n",
    "\n",
    "4. Intégrer le chatbot à LUIS. Utiliser l'API REST de LUIS dans le chatbot pour analyser les énoncés de l'utilisateur et extraire des informations structurées qui permettront de comprendre les intentions de l'utilisateur et de réaliser des actions spécifiques. Suivre les instructions de cette documentation pour intégrer le chatbot à LUIS : https://docs.microsoft.com/fr-fr/azure/cognitive-services/luis/luis-get-started-python-call-api"
   ]
  },
  {
   "cell_type": "markdown",
   "id": "9b3ae9db",
   "metadata": {},
   "source": [
    "# Import des librairies"
   ]
  },
  {
   "cell_type": "code",
   "execution_count": 1,
   "id": "71d66260",
   "metadata": {},
   "outputs": [],
   "source": [
    "from azure.cognitiveservices.language.luis.authoring import LUISAuthoringClient\n",
    "from azure.cognitiveservices.language.luis.authoring.models import ApplicationCreateObject\n",
    "from azure.cognitiveservices.language.luis.runtime import LUISRuntimeClient\n",
    "from msrest.authentication import CognitiveServicesCredentials\n",
    "from functools import reduce\n",
    "import requests\n",
    "\n",
    "import json, time, uuid\n",
    "\n",
    "from dotenv import load_dotenv\n",
    "import os\n",
    "\n",
    "from statistics import mean, median\n",
    "from collections import Counter\n",
    "\n",
    "import pandas as pd\n",
    "import numpy as np\n",
    "\n",
    "from pprint import pprint\n",
    "\n",
    "import matplotlib.pyplot as plt\n",
    "import seaborn as sns\n",
    "from tqdm.notebook import tqdm"
   ]
  },
  {
   "cell_type": "markdown",
   "id": "489fa585",
   "metadata": {},
   "source": [
    "# Chargement des données\n",
    "\n",
    "Le jeu de données provient de ce lien : https://www.microsoft.com/en-us/research/project/frames-dataset/download/.\n",
    "\n",
    "Le jeu de données contient des historiques d’échange entre un chatbot (appelé wizard) et un utilisateur.\n",
    "\n",
    "Voici la description du jeu de données :\n",
    "- **Global Properties** :\n",
    "    - **id** : Désigne une identification unique pour le dialogue.\n",
    "    - **user_id** : Désigne un identifiant unique pour l'utilisateur participant au dialogue.\n",
    "    - **wizard_id** : Désigne un identifiant unique pour l'assistant (wizard en anglais) qui participe au dialogue.\n",
    "    \n",
    "    \n",
    "- **Labels** :\n",
    "    - **userSurveyRating** : Une valeur qui représente la satisfaction de l'utilisateur à l'égard du service de l'assistant, allant de 1 - insatisfaction totale à 5 - satisfaction totale.\n",
    "    - **wizardSurveyTaskSuccessful** : Un booléen qui est vrai si l'assistant pense à la fin du dialogue que l'objectif de l'utilisateur a été atteint.\n",
    "    \n",
    "    \n",
    "- **Turns** (turns = trames : Une trame est un ensemble structuré d’éléments numériques consécutifs, spécifié par un protocole de communication.) :\n",
    "    - **author** : L'auteur du message dans un dialogue, c'est-à-dire \"user\" ou \"wizard\".\n",
    "    - **text** : La phrase que l'auteur a prononcée. C'est le texte exact que l'auteur d'un tour a dit. Par exemple, \"text\": \"Consider it done. Have a great trip!\".\n",
    "    - **labels** : Objet JSON qui possède trois clés : **active_frame**, **acts**, et **acts_without_refs**.\n",
    "        - Le **active_frame** est l'identifiant du cadre actuellement actif. \n",
    "        - Les **acts** sont les actes de dialogue pour l'énoncé courant. Chaque acte a un nom et des arguments.\n",
    "        - Le **name** est le nom de l'acte de dialogue, par exemple **offer** ou **inform**.\n",
    "        - Le **args** contient les types d'emplacement **(key)** et les valeurs d'emplacement **(val)**, par exemple budget=$2000.\n",
    "        - Un **act** contient un **ref tag** chaque fois qu'un utilisateur ou un assistant fait référence à une image passée.\n",
    "        - Les **acts_without_refs** sont similaires aux actes sauf qu'ils n'ont pas ces balises ref.\n",
    "        - La tâche de suivi de trame est définie  comme la tâche qui prend en entrée les **acts_without_refs** et produit les **acts**.\n",
    "    - **timestamp** : Horodatage Unix indiquant l'heure à laquelle le turn (dialogue) actuel s'est produit.\n",
    "    - **frames** : Liste des trames jusqu'au turn actuel. Chaque trame a les clés suivantes : frame_id, frame_parent_id, requests, binary_questions, compare_requests, et info.\n",
    "    - **db** : Elle ne peut se produire que pendant le tour de l'assistant. Il s'agit d'une liste de requêtes de recherche effectuées par l'assistant avec la liste associée de résultats de recherche.\n",
    "E.x. “db”: {“search”: [{“ORIGIN_CITY”: “Montreal”}], “result”: []}\n",
    "\n",
    "\n",
    "- **Frames** :\n",
    "    - **frame_id** : Id de la trame.\n",
    "    - **frame_parent_id** : Id de la trame parent.\n",
    "    - **requests, binary_questions, compare_requests** : Les requêtes sont des questions relatives à une trame, par exemple \"what is the price of this package?\". Les Compare_requests concernent plusieurs trames. Par exemple, l'utilisateur peut demander à comparer différents forfaits : \"What is the guest rating of these two hotels?\". Les Binary_questions sont des questions comportant à la fois un type de slot et une valeur de slot. Ce sont des cas particuliers des requêtes et des compare_requests, par exemple \"are both hotels 3.5 stars?\".\n",
    "    - **info** : L'info contient toutes les contraintes définies par l'utilisateur ou l'assistant dans la trame. Ces contraintes sont exprimées sous la forme de types de slot qui ont une valeur. Notez que chaque emplacement peut avoir plusieurs valeurs, qui s'accumulent tant que la trame ne change pas. Par exemple, le prix peut être à la fois \"1000 USD\" et \"cheapest\". Il existe deux champs supplémentaires pour garder la trace d'aspects spécifiques du dialogue :\n",
    "        - REJECTED une valeur booléenne exprimant si l'utilisateur a infirmé ou confirmé une offre faite par l'assistant.\n",
    "        - MOREINFO une valeur booléenne exprimant si l'utilisateur veut en savoir plus sur la trame en question."
   ]
  },
  {
   "cell_type": "code",
   "execution_count": 2,
   "id": "bbf1d92e",
   "metadata": {},
   "outputs": [],
   "source": [
    "# Open the file\n",
    "with open('data/frames.json') as json_file:\n",
    "    # Load the JSON data from the file\n",
    "    frames = json.load(json_file)"
   ]
  },
  {
   "cell_type": "code",
   "execution_count": 3,
   "id": "88075177",
   "metadata": {
    "scrolled": true
   },
   "outputs": [
    {
     "data": {
      "text/plain": [
       "1369"
      ]
     },
     "execution_count": 3,
     "metadata": {},
     "output_type": "execute_result"
    }
   ],
   "source": [
    "len(frames)"
   ]
  },
  {
   "cell_type": "code",
   "execution_count": 4,
   "id": "9d505ee3",
   "metadata": {
    "scrolled": true
   },
   "outputs": [
    {
     "data": {
      "text/plain": [
       "dict_keys(['user_id', 'turns', 'wizard_id', 'id', 'labels'])"
      ]
     },
     "execution_count": 4,
     "metadata": {},
     "output_type": "execute_result"
    }
   ],
   "source": [
    "frames[9].keys()"
   ]
  },
  {
   "cell_type": "code",
   "execution_count": 5,
   "id": "1fd6fa1f",
   "metadata": {
    "scrolled": false
   },
   "outputs": [
    {
     "data": {
      "text/plain": [
       "{'user_id': 'U22HTHYNP',\n",
       " 'turns': [{'text': 'Hi, I need to go to Mos Eisley for a wedding, leaving on Saturday, August 13, 2016 and returning on Tuesday, August 16, 2016. Preferably for $3700.',\n",
       "   'labels': {'acts': [{'args': [{'val': 'book', 'key': 'intent'}],\n",
       "      'name': 'inform'},\n",
       "     {'args': [{'val': 'Mos Eisley', 'key': 'dst_city'},\n",
       "       {'val': 'Saturday, August 13, 2016', 'key': 'str_date'},\n",
       "       {'val': 'Tuesday, August 16, 2016', 'key': 'end_date'},\n",
       "       {'val': '$3700', 'key': 'budget'}],\n",
       "      'name': 'inform'}],\n",
       "    'acts_without_refs': [{'args': [{'val': 'book', 'key': 'intent'}],\n",
       "      'name': 'inform'},\n",
       "     {'args': [{'val': 'Mos Eisley', 'key': 'dst_city'},\n",
       "       {'val': 'Saturday, August 13, 2016', 'key': 'str_date'},\n",
       "       {'val': 'Tuesday, August 16, 2016', 'key': 'end_date'},\n",
       "       {'val': '$3700', 'key': 'budget'}],\n",
       "      'name': 'inform'}],\n",
       "    'active_frame': 1,\n",
       "    'frames': [{'info': {'intent': [{'val': 'book', 'negated': False}],\n",
       "       'str_date': [{'val': 'august 13', 'negated': False}],\n",
       "       'end_date': [{'val': 'august 16', 'negated': False}],\n",
       "       'dst_city': [{'val': 'Mos Eisley', 'negated': False}],\n",
       "       'budget': [{'val': '3700.0', 'negated': False}]},\n",
       "      'frame_id': 1,\n",
       "      'requests': [],\n",
       "      'frame_parent_id': None,\n",
       "      'binary_questions': [],\n",
       "      'compare_requests': []}]},\n",
       "   'author': 'user',\n",
       "   'timestamp': 1471276119195},\n",
       "  {'db': {'result': [], 'search': []},\n",
       "   'text': 'Would you like to have a departure from a specific location?',\n",
       "   'labels': {'acts': [{'args': [{'key': 'or_city'}], 'name': 'request'}],\n",
       "    'active_frame': 1,\n",
       "    'frames': [{'info': {'intent': [{'val': 'book', 'negated': False}],\n",
       "       'str_date': [{'val': 'august 13', 'negated': False}],\n",
       "       'end_date': [{'val': 'august 16', 'negated': False}],\n",
       "       'dst_city': [{'val': 'Mos Eisley', 'negated': False}],\n",
       "       'budget': [{'val': '3700.0', 'negated': False}]},\n",
       "      'frame_id': 1,\n",
       "      'requests': [{'author': 'wizard', 'key': 'or_city'}],\n",
       "      'frame_parent_id': None,\n",
       "      'binary_questions': [],\n",
       "      'compare_requests': []}]},\n",
       "   'author': 'wizard',\n",
       "   'timestamp': 1471276168321}],\n",
       " 'wizard_id': 'U21DKG18C',\n",
       " 'id': '45f2dfa5-d8ad-4f33-8994-68bc040e6901',\n",
       " 'labels': {'userSurveyRating': 5.0, 'wizardSurveyTaskSuccessful': False}}"
      ]
     },
     "execution_count": 5,
     "metadata": {},
     "output_type": "execute_result"
    }
   ],
   "source": [
    "frames[9]"
   ]
  },
  {
   "cell_type": "markdown",
   "id": "1ec9d613",
   "metadata": {},
   "source": [
    "# Analyse Exploratoire des données"
   ]
  },
  {
   "cell_type": "markdown",
   "id": "d3675266",
   "metadata": {},
   "source": [
    "## Satisfaction moyenne des utilisateurs\n",
    "Pour rappel :\n",
    "- **userSurveyRating** : Une valeur qui représente la satisfaction de l'utilisateur à l'égard du service de l'assistant, allant de 1 - insatisfaction totale à 5 - satisfaction totale."
   ]
  },
  {
   "cell_type": "code",
   "execution_count": 6,
   "id": "7dd72757",
   "metadata": {},
   "outputs": [
    {
     "data": {
      "text/plain": [
       "4.573418740849195"
      ]
     },
     "execution_count": 6,
     "metadata": {},
     "output_type": "execute_result"
    }
   ],
   "source": [
    "ratings = []\n",
    "for frame in frames:\n",
    "    ratings.append(frame[\"labels\"][\"userSurveyRating\"])\n",
    "    \n",
    "ratings = [rating for rating in ratings if rating is not None]\n",
    "mean(ratings)"
   ]
  },
  {
   "cell_type": "code",
   "execution_count": 7,
   "id": "8830d635",
   "metadata": {},
   "outputs": [
    {
     "data": {
      "image/png": "[encoded data removed]",
      "text/plain": [
       "<Figure size 640x480 with 1 Axes>"
      ]
     },
     "metadata": {},
     "output_type": "display_data"
    }
   ],
   "source": [
    "ax = sns.histplot(ratings, bins=8)\n",
    "plt.title(\"Distribution du score de satisfaction\")\n",
    "plt.show()"
   ]
  },
  {
   "cell_type": "markdown",
   "id": "092ba55f",
   "metadata": {},
   "source": [
    "La satisfaction des utilisateurs est plutôt bonne."
   ]
  },
  {
   "cell_type": "markdown",
   "id": "fc57b9ab",
   "metadata": {},
   "source": [
    "## Taux de succès du dialogue (selon l'assistant)\n",
    "\n",
    "C'est cette information que nous allons utliser pour cette analyse :\n",
    "- **wizardSurveyTaskSuccessful** : Un booléen qui est vrai si l'assistant pense à la fin du dialogue que l'objectif de l'utilisateur a été atteint."
   ]
  },
  {
   "cell_type": "code",
   "execution_count": 8,
   "id": "3c3146b2",
   "metadata": {},
   "outputs": [
    {
     "data": {
      "text/plain": [
       "{'Labels': ['True', 'False'], 'Counts': [1287, 82]}"
      ]
     },
     "execution_count": 8,
     "metadata": {},
     "output_type": "execute_result"
    }
   ],
   "source": [
    "is_success = []\n",
    "for frame in frames:\n",
    "    is_success.append(frame[\"labels\"][\"wizardSurveyTaskSuccessful\"])\n",
    "    \n",
    "is_success_dict = {\n",
    "    \"Labels\": [\"True\", \"False\"],\n",
    "    \"Counts\": [is_success.count(True), is_success.count(False)]\n",
    "}\n",
    "is_success_dict"
   ]
  },
  {
   "cell_type": "code",
   "execution_count": 9,
   "id": "f04dd46d",
   "metadata": {},
   "outputs": [
    {
     "data": {
      "image/png": "[encoded data removed]",
      "text/plain": [
       "<Figure size 640x480 with 1 Axes>"
      ]
     },
     "metadata": {},
     "output_type": "display_data"
    }
   ],
   "source": [
    "explode = [0, 0.1]\n",
    "plt.pie(\n",
    "    is_success_dict[\"Counts\"],\n",
    "    labels=is_success_dict[\"Labels\"],\n",
    "    autopct='%.0f%%',\n",
    "    explode=explode)\n",
    "plt.title(\"La trame a-t-elle aboutie a un succès ?\")\n",
    "plt.show()"
   ]
  },
  {
   "cell_type": "markdown",
   "id": "a4fc7fb9",
   "metadata": {},
   "source": [
    "L'assistant est efficace (d'après lui-même) avec un taux d'aboutissement à un succès de 94%."
   ]
  },
  {
   "cell_type": "markdown",
   "id": "88f04d99",
   "metadata": {},
   "source": [
    "## Exemple de dialogue avec l'assistant"
   ]
  },
  {
   "cell_type": "code",
   "execution_count": 10,
   "id": "2cfee340",
   "metadata": {
    "scrolled": false
   },
   "outputs": [
    {
     "name": "stdout",
     "output_type": "stream",
     "text": [
      "user\n",
      "----------\n",
      "I'd like to book a trip to Atlantis from Caprica on Saturday, August 13, 2016 for 8 adults. I have a tight budget of 1700.\n",
      "\n",
      "wizard\n",
      "----------\n",
      "Hi...I checked a few options for you, and unfortunately, we do not currently have any trips that meet this criteria.  Would you like to book an alternate travel option?\n",
      "\n",
      "user\n",
      "----------\n",
      "Yes, how about going to Neverland from Caprica on August 13, 2016 for 5 adults. For this trip, my budget would be 1900.\n",
      "\n",
      "wizard\n",
      "----------\n",
      "I checked the availability for this date and there were no trips available.  Would you like to select some alternate dates?\n",
      "\n",
      "user\n",
      "----------\n",
      "I have no flexibility for dates... but I can leave from Atlantis rather than Caprica. How about that?\n",
      "\n",
      "wizard\n",
      "----------\n",
      "I checked the availability for that date and there were no trips available.  Would you like to select some alternate dates?\n",
      "\n",
      "user\n",
      "----------\n",
      "I suppose I'll speak with my husband to see if we can choose other dates, and then I'll come back to you.Thanks for your help\n",
      "\n"
     ]
    }
   ],
   "source": [
    "for frame in frames[0][\"turns\"]:\n",
    "    print(frame[\"author\"])\n",
    "    print(\"-\"*10)\n",
    "    print(frame[\"text\"]+\"\\n\")"
   ]
  },
  {
   "cell_type": "markdown",
   "id": "d1f6479c",
   "metadata": {},
   "source": [
    "## Répartition des labels dans le jeu de données"
   ]
  },
  {
   "cell_type": "code",
   "execution_count": 11,
   "id": "e5ca5ae8",
   "metadata": {},
   "outputs": [],
   "source": [
    "labels = []\n",
    "for idx, _ in enumerate(frames):\n",
    "    labels.extend(list((frames[idx][\"turns\"][0][\"labels\"][\"frames\"][0][\"info\"].keys())))\n",
    "    \n",
    "label_counts = pd.DataFrame.from_dict(Counter(labels), orient='index').reset_index()\n",
    "label_counts = label_counts.rename(columns={'index':'label', 0:'count'})\n",
    "label_counts = label_counts.sort_values(by=\"count\", ascending=False)\n",
    "\n",
    "# Normalisation en pourcentage\n",
    "label_counts[\"count\"] = (100. * label_counts[\"count\"] / label_counts[\"count\"].sum()).round(2)"
   ]
  },
  {
   "cell_type": "code",
   "execution_count": 12,
   "id": "b79a9305",
   "metadata": {
    "scrolled": false
   },
   "outputs": [
    {
     "data": {
      "image/png": "[encoded data removed]",
      "text/plain": [
       "<Figure size 640x480 with 1 Axes>"
      ]
     },
     "metadata": {},
     "output_type": "display_data"
    }
   ],
   "source": [
    "ax = sns.barplot(x=\"count\", y=\"label\",data=label_counts, color=\"c\")\n",
    "plt.title(\"Proportion (en %) des labels dans le jeu de données\")\n",
    "for i in ax.containers:\n",
    "    ax.bar_label(i,)"
   ]
  },
  {
   "cell_type": "markdown",
   "id": "9479054c",
   "metadata": {},
   "source": [
    "Regardons si le label intent (intention) peut prendre plusieurs valeurs."
   ]
  },
  {
   "cell_type": "code",
   "execution_count": 13,
   "id": "223a60d5",
   "metadata": {},
   "outputs": [
    {
     "data": {
      "text/plain": [
       "Counter({'book': 1136})"
      ]
     },
     "execution_count": 13,
     "metadata": {},
     "output_type": "execute_result"
    }
   ],
   "source": [
    "intents = []\n",
    "for idx, _ in enumerate(frames):\n",
    "    frame_info = frames[idx][\"turns\"][0][\"labels\"][\"frames\"][0][\"info\"]\n",
    "    if \"intent\" in frame_info:\n",
    "        intents.append(frame_info[\"intent\"][0][\"val\"])\n",
    "        \n",
    "Counter(intents)"
   ]
  },
  {
   "cell_type": "markdown",
   "id": "345a22a5",
   "metadata": {},
   "source": [
    "Le label intent prend une seule valeur : \"book\" (réserver)."
   ]
  },
  {
   "cell_type": "markdown",
   "id": "80507acc",
   "metadata": {},
   "source": [
    "Voici quelques statistiques concernant le fichier :\n",
    "\n",
    "- 1,369 Dialogues\n",
    "- 15 Nombre moyen de trames (turns) par dialogue\n",
    "- 268 Hôtels\n",
    "- 109 Villes\n",
    "- 4.58 Satisfaction moyenne des utilisateurs (from 1-5)\n",
    "- 19,986 Trames (Turns)"
   ]
  },
  {
   "cell_type": "markdown",
   "id": "1b963bd2",
   "metadata": {},
   "source": [
    "# Application Luis\n",
    "\n",
    "https://learn.microsoft.com/fr-fr/azure/cognitive-services/luis/client-libraries-rest-api?tabs=windows&pivots=programming-language-python"
   ]
  },
  {
   "cell_type": "markdown",
   "id": "3bf5566c",
   "metadata": {},
   "source": [
    "## Création des variables pour l'application\n",
    "\n",
    "https://www.luis.ai/"
   ]
  },
  {
   "cell_type": "markdown",
   "id": "6fc41a44",
   "metadata": {},
   "source": [
    "1. Ci-dessous la création des variables pour stocker la clé de création et les noms de des ressources. Pour trouver les clés :\n",
    "Dans le portail Luis, cliquer sur l'application crée **->** cliquer sur \"MANAGE **->** cliquer sur \"Azure Ressources\" sur la gauche."
   ]
  },
  {
   "cell_type": "code",
   "execution_count": 14,
   "id": "492d6333",
   "metadata": {},
   "outputs": [
    {
     "data": {
      "text/plain": [
       "True"
      ]
     },
     "execution_count": 14,
     "metadata": {},
     "output_type": "execute_result"
    }
   ],
   "source": [
    "load_dotenv()"
   ]
  },
  {
   "cell_type": "code",
   "execution_count": 15,
   "id": "9b77a836",
   "metadata": {
    "code_folding": []
   },
   "outputs": [],
   "source": [
    "authoringKey = os.getenv(\"LUIS_AUTHORING_SUBSCRIPTION_KEY\")\n",
    "authoringEndpoint = os.getenv(\"LUIS_AUTHORING_ENDPOINT\")\n",
    "predictionKey = os.getenv(\"LUIS_PREDICTION_SUBSCRIPTION_KEY\")\n",
    "predictionEndpoint = os.getenv(\"LUIS_PREDICTION_ENDPOINT\")"
   ]
  },
  {
   "cell_type": "markdown",
   "id": "e617523f",
   "metadata": {},
   "source": [
    "2. Création des variables pour stocker les points de terminaison, le nom de l'application, la version et le nom de l'intention."
   ]
  },
  {
   "cell_type": "code",
   "execution_count": 16,
   "id": "bcffca12",
   "metadata": {},
   "outputs": [],
   "source": [
    "appName = \"Flight Booking Chatbot\"\n",
    "versionId = \"0.1\"\n",
    "intentName = \"BookFlightIntent\""
   ]
  },
  {
   "cell_type": "markdown",
   "id": "c0426ee8",
   "metadata": {},
   "source": [
    "## Authentifier le client"
   ]
  },
  {
   "cell_type": "code",
   "execution_count": 17,
   "id": "d1dba4bb",
   "metadata": {},
   "outputs": [],
   "source": [
    "client = LUISAuthoringClient(authoringEndpoint, CognitiveServicesCredentials(authoringKey))"
   ]
  },
  {
   "cell_type": "markdown",
   "id": "7dbdcd6b",
   "metadata": {},
   "source": [
    "## Création de l'application Luis\n",
    "\n",
    "Une application LUIS stocke le modèle de traitement en langage naturel contenant les intentions, les entités et les exemples d'énoncés.\n",
    "\n",
    "Il faut créer une méthode **add** pour l’objet **AppsOperation** afin de créer l’application. Le nom et la culture de la langue sont des propriétés obligatoires."
   ]
  },
  {
   "cell_type": "code",
   "execution_count": 18,
   "id": "58779f44",
   "metadata": {},
   "outputs": [
    {
     "name": "stdout",
     "output_type": "stream",
     "text": [
      "Created LUIS app with ID 3c9416db-94ef-4fd7-b593-5c881f051eb3\n"
     ]
    }
   ],
   "source": [
    "# define app basics\n",
    "appDefinition = ApplicationCreateObject(name=appName, initial_version_id=versionId, culture='en-us')\n",
    "\n",
    "# create app\n",
    "app_id = client.apps.add(appDefinition)\n",
    "\n",
    "# get app id - necessary for all other changes\n",
    "print(\"Created LUIS app with ID {}\".format(app_id))"
   ]
  },
  {
   "cell_type": "markdown",
   "id": "40c443ec",
   "metadata": {},
   "source": [
    "## Créer des intention pour l’application\n",
    "\n",
    "L’objet principal dans un modèle d’application LUIS est l’intention. L’intention s’aligne sur un regroupement d’intentions d’énoncés utilisateur. Un utilisateur peut poser une question ou émettre un énoncé en souhaitant obtenir une réponse prévue particulière d’un bot (ou d’une autre application cliente). Réserver un billet d’avion, demander quelle est la météo dans une ville de destination et demander des informations de contact pour un service client sont des exemples d’intentions.\n",
    "\n",
    "Il faut utiliser la méthode **model.add_intent** avec le nom de l’intention unique, puis transmettre l’ID de l’application, l’ID de version et le nom de la nouvelle intention.\n",
    "\n",
    "La valeur **intentName** est codée en dur dans **BookFlightIntent** dans le cadre des variables de la section **intentName**."
   ]
  },
  {
   "cell_type": "code",
   "execution_count": 19,
   "id": "8d28033f",
   "metadata": {
    "scrolled": true
   },
   "outputs": [
    {
     "data": {
      "text/plain": [
       "'75017736-caa1-41b8-b271-3d16f75d3c18'"
      ]
     },
     "execution_count": 19,
     "metadata": {},
     "output_type": "execute_result"
    }
   ],
   "source": [
    "client.model.add_intent(app_id, versionId, intentName)"
   ]
  },
  {
   "cell_type": "markdown",
   "id": "15a0d7de",
   "metadata": {},
   "source": [
    "On peut également utiliser des intentions de domaine prédéfinis afin mieux detecter s'il ne s'agit pas d'une intention de reservation de vol :"
   ]
  },
  {
   "cell_type": "code",
   "execution_count": 20,
   "id": "dcd712b7",
   "metadata": {},
   "outputs": [],
   "source": [
    "# Open the prebuilt intents file\n",
    "with open('data/prebuilt_intents.json') as json_file:\n",
    "    # Load the JSON data from the file\n",
    "    prebuilt_intents = json.load(json_file)"
   ]
  },
  {
   "cell_type": "code",
   "execution_count": 21,
   "id": "74602f65",
   "metadata": {},
   "outputs": [
    {
     "data": {
      "application/vnd.jupyter.widget-view+json": {
       "model_id": "f26a436fa65a4018a9cb7f50c2b457d0",
       "version_major": 2,
       "version_minor": 0
      },
      "text/plain": [
       "Ajout des prebuilts intents:   0%|          | 0/138 [00:00<?, ?it/s]"
      ]
     },
     "metadata": {},
     "output_type": "display_data"
    }
   ],
   "source": [
    "# Add Prebuilt intents\n",
    "for prebuilt_intent in tqdm(prebuilt_intents[\"intents\"], desc=\"Ajout des prebuilts intents\"):\n",
    "    domain_name = prebuilt_intent[\"inherits\"][\"domain_name\"]\n",
    "    model_name = prebuilt_intent[\"inherits\"][\"model_name\"]\n",
    "    client.model.add_custom_prebuilt_intent(app_id, versionId, domain_name, model_name)"
   ]
  },
  {
   "cell_type": "markdown",
   "id": "91e4bf35",
   "metadata": {},
   "source": [
    "## Créer des entités pour l'application"
   ]
  },
  {
   "cell_type": "code",
   "execution_count": 22,
   "id": "d37abaa9",
   "metadata": {
    "code_folding": []
   },
   "outputs": [],
   "source": [
    "# Add Prebuilt entity\n",
    "# 'datetimeV2', 'geographyV2' et 'number' sont déjà ajoutés par l'étape précédente\n",
    "client.model.add_prebuilt(\n",
    "    app_id, versionId,\n",
    "    prebuilt_extractor_names=['money'])\n",
    "\n",
    "entity_x_features = {\n",
    "    \"or_city\": \"geographyV2\",\n",
    "    \"dst_city\": \"geographyV2\",\n",
    "    \"str_date\": \"datetimeV2\",\n",
    "    \"end_date\": \"datetimeV2\",\n",
    "    \"budget\": \"money\",\n",
    "    \"n_adults\": \"number\",\n",
    "    \"n_children\": \"number\"\n",
    "}\n",
    "\n",
    "for entity, feature in entity_x_features.items():\n",
    "    # add entity to app\n",
    "    modelId = client.model.add_entity(\n",
    "        app_id, versionId, name=entity)\n",
    "    \n",
    "    # Get entity id\n",
    "    modelObject = client.model.get_entity(app_id, versionId, modelId)\n",
    "    entityId = modelObject.as_dict()[\"id\"]\n",
    "\n",
    "    # add model as feature to the entity\n",
    "    prebuiltFeatureNotRequiredDefinition = {\"model_name\": feature}\n",
    "    client.features.add_entity_feature(\n",
    "        app_id, versionId, entityId, prebuiltFeatureNotRequiredDefinition)"
   ]
  },
  {
   "cell_type": "markdown",
   "id": "c43624b7",
   "metadata": {},
   "source": [
    "Ce code permet de créer les entités pour l'application. Il utilise la méthode **add_entity** pour ajouter une nouvelle entité nommée. Il est important de remplacer les valeurs de l'ID de l'application et de la version avec les valeurs appropriées pour l'application LUIS avant de l'exécuter."
   ]
  },
  {
   "cell_type": "markdown",
   "id": "f57844d3",
   "metadata": {},
   "source": [
    "## Mise en forme des données\n",
    "\n",
    "Luis prend une forme de données précise pour l'entraînement du modèle. Voici un lien vers la documentation officielle de Luis qui montre quelle forme les données doivent prendre : https://learn.microsoft.com/fr-fr/azure/cognitive-services/luis/client-libraries-rest-api?tabs=windows&pivots=programming-language-python.\n",
    "\n",
    "Pour déterminer l’intention d’un énoncé et extraire des entités, l’application a besoin d’exemples d’énoncés. Les exemples doivent cibler une intention spécifique et unique, et doivent marquer toutes les entités personnalisées."
   ]
  },
  {
   "cell_type": "markdown",
   "id": "79938ef9",
   "metadata": {},
   "source": [
    "```python\n",
    "# Define labeled example\n",
    "labeledExampleUtteranceWithMLEntity = {'text': \"I'd like to book a trip to Atlantis from Caprica on Saturday, August 13, 2016 for 8 adults. I have a tight budget of 1700.\",\n",
    " 'intentName': 'BookFlightIntent',\n",
    " 'entityLabels': [\n",
    "             {\n",
    "                 'startCharIndex': 27,\n",
    "                 'endCharIndex': 34,\n",
    "                 'entityName': 'dst_city'\n",
    "             },\n",
    "             {\n",
    "                 'startCharIndex': 41,\n",
    "                 'endCharIndex': 47,\n",
    "                 'entityName': 'or_city'\n",
    "             },\n",
    "             {\n",
    "                 'startCharIndex': 52,\n",
    "                 'endCharIndex': 76,\n",
    "                 'entityName': 'str_date'\n",
    "             },\n",
    "             {\n",
    "                 'startCharIndex': 82,\n",
    "                 'endCharIndex': 82,\n",
    "                 'entityName': 'n_adults'\n",
    "             },\n",
    "             {\n",
    "                 'startCharIndex': 117,\n",
    "                 'endCharIndex': 120,\n",
    "                 'entityName': 'budget'\n",
    "             }\n",
    "         ]\n",
    "```"
   ]
  },
  {
   "cell_type": "markdown",
   "id": "7d9b5fef",
   "metadata": {},
   "source": [
    "C'est le format d'exemple attendu par SDK de LUIS (Language Understanding Intelligent Service) pour entraîner un modèle d'intelligence artificielle capable de comprendre les requêtes de l'utilisateur et de les associer à une intention et des entités spécifiques. Il contient les informations suivantes:\n",
    "\n",
    "* **text** : La phrase que l'utilisateur a prononcé\n",
    "* **intentName** : Le nom de l'intention associée à la phrase, c'est-à-dire ce que l'utilisateur souhaite accomplir avec cette phrase.\n",
    "* **entityLabels** : La liste des entités extraites de la phrase. Chaque entité a les clés suivantes : startCharIndex, endCharIndex, entityName, children (si il y en a). Ces valeurs permettent de définir la position et le nom de chaque entité dans la phrase.\n",
    "\n",
    "Les clés **children** permettent de grouper des entités ensemble et de les hiérarchiser. Si on a pas besoin de cette fonctionnalité, on peut les omettre dans la fonction de conversion (ce qui est notre cas)."
   ]
  },
  {
   "cell_type": "markdown",
   "id": "ea6d215e",
   "metadata": {},
   "source": [
    "Voici un exemple de fonction Python qui pourrait être utilisée pour transformer les données de frames.json au format approprié pour entraîner un modèle LUIS :"
   ]
  },
  {
   "cell_type": "code",
   "execution_count": 23,
   "id": "8e3bd7fb",
   "metadata": {},
   "outputs": [],
   "source": [
    "def create_luis_examples(filepath):\n",
    "    \n",
    "    entity_names = [\n",
    "        \"or_city\", \"dst_city\", \"str_date\", \"end_date\", \"budget\", \"n_adults\", \"n_children\"]\n",
    "    \n",
    "    with open(filepath, 'r') as f:\n",
    "        data = json.load(f)\n",
    "        \n",
    "    examples = []\n",
    "    for dialogue in tqdm(data):\n",
    "        # On ne prend que la première entrée de l'utilisateur\n",
    "        for turn in dialogue[\"turns\"][:2]:\n",
    "            if turn[\"author\"] == \"user\":\n",
    "                text = turn[\"text\"]\n",
    "                entity_labels = []\n",
    "                for act in turn[\"labels\"][\"acts\"]:\n",
    "                    if act[\"name\"] == \"inform\":\n",
    "                        for arg in act[\"args\"]:\n",
    "                            if \"val\" in arg and isinstance(arg[\"val\"], str):\n",
    "                                val = arg[\"val\"]\n",
    "                                key = arg[\"key\"]\n",
    "                                try:\n",
    "                                    if key in entity_names:\n",
    "                                        start = text.index(val)\n",
    "                                        end = start + len(val) - 1\n",
    "                                        entity_labels.append({\n",
    "                                            \"startCharIndex\": start,\n",
    "                                            \"endCharIndex\": end,\n",
    "                                            \"entityName\": key\n",
    "                                        })\n",
    "                                except ValueError:\n",
    "                                    pass\n",
    "                if entity_labels:\n",
    "                    examples.append({\n",
    "                        \"text\": text,\n",
    "                        \"intentName\": \"BookFlightIntent\",\n",
    "                        \"entityLabels\": entity_labels\n",
    "                    })\n",
    "                    \n",
    "    # remove duplicates\n",
    "    examples = [i for n, i in enumerate(examples)\n",
    "                if i not in examples[n + 1:]]\n",
    "    \n",
    "    # Split the data into training and test sets\n",
    "    train_data = examples[:int(len(examples) * 0.8)] # 80%\n",
    "    test_data = examples[int(len(examples) * 0.8):] # 20%\n",
    "    \n",
    "    with open('data/train.json', 'w') as f:\n",
    "        json.dump(train_data, f)\n",
    "    \n",
    "    with open('data/test.json', 'w') as f:\n",
    "        json.dump(test_data, f)\n",
    "        \n",
    "    with open('data/utterances.json', 'w') as f:\n",
    "        json.dump(examples, f)\n",
    "        \n",
    "    return examples"
   ]
  },
  {
   "cell_type": "markdown",
   "id": "6795401b",
   "metadata": {},
   "source": [
    "Il est important de noter que le fichier JSON de sortie ne contiendra que les tours de dialogue de l'utilisateur et les tours de dialogue de l'assistant ne seront pas inclus, car ils n'ont pas d'intention informative. "
   ]
  },
  {
   "cell_type": "code",
   "execution_count": 24,
   "id": "d7bc174a",
   "metadata": {
    "scrolled": true
   },
   "outputs": [
    {
     "data": {
      "application/vnd.jupyter.widget-view+json": {
       "model_id": "b200636198354c55a839f0b26a68d26c",
       "version_major": 2,
       "version_minor": 0
      },
      "text/plain": [
       "  0%|          | 0/1369 [00:00<?, ?it/s]"
      ]
     },
     "metadata": {},
     "output_type": "display_data"
    }
   ],
   "source": [
    "examples = create_luis_examples(\"data/frames.json\")"
   ]
  },
  {
   "cell_type": "code",
   "execution_count": 25,
   "id": "254683e3",
   "metadata": {
    "scrolled": true
   },
   "outputs": [],
   "source": [
    "with open('data/utterances.json', 'r') as f:\n",
    "    examples = json.load(f)"
   ]
  },
  {
   "cell_type": "code",
   "execution_count": 26,
   "id": "3411477a",
   "metadata": {
    "scrolled": true
   },
   "outputs": [
    {
     "data": {
      "text/plain": [
       "{'text': \"I'd like to book a trip to Atlantis from Caprica on Saturday, August 13, 2016 for 8 adults. I have a tight budget of 1700.\",\n",
       " 'intentName': 'BookFlightIntent',\n",
       " 'entityLabels': [{'startCharIndex': 27,\n",
       "   'endCharIndex': 34,\n",
       "   'entityName': 'dst_city'},\n",
       "  {'startCharIndex': 41, 'endCharIndex': 47, 'entityName': 'or_city'},\n",
       "  {'startCharIndex': 52, 'endCharIndex': 76, 'entityName': 'str_date'},\n",
       "  {'startCharIndex': 82, 'endCharIndex': 82, 'entityName': 'n_adults'},\n",
       "  {'startCharIndex': 117, 'endCharIndex': 120, 'entityName': 'budget'}]}"
      ]
     },
     "execution_count": 26,
     "metadata": {},
     "output_type": "execute_result"
    }
   ],
   "source": [
    "examples[0]"
   ]
  },
  {
   "cell_type": "code",
   "execution_count": 27,
   "id": "f5e9260d",
   "metadata": {},
   "outputs": [
    {
     "name": "stdout",
     "output_type": "stream",
     "text": [
      "Training data: 928\n",
      "Test data: 232\n"
     ]
    }
   ],
   "source": [
    "# Split the data into training and test sets\n",
    "train_data = examples[:int(len(examples) * 0.8)]\n",
    "test_data = examples[int(len(examples) * 0.8):]\n",
    "\n",
    "print(\"Training data:\", len(train_data))\n",
    "print(\"Test data:\", len(test_data))"
   ]
  },
  {
   "cell_type": "markdown",
   "id": "bd16f14d",
   "metadata": {},
   "source": [
    "## Ajout d'énoncés d'entraînement à Luis\n",
    "\n",
    "Chaque fois qu'on effectue une itération sur le modèle pour l’améliorer, il ne faut pas ajouter de grandes quantités d’énoncés. On doit ajouter des énoncés 15 par 15.\n",
    "\n",
    "LUIS génère des modèles efficaces avec des énoncés soigneusement sélectionnés par l’auteur du modèle LUIS. L’ajout d’un trop grand nombre d’énoncés n’est pas productif, car cela introduit de la confusion.\n",
    "\n",
    "Il est préférable de commencer avec quelques énoncés, puis d’examiner les énoncés de point de terminaison pour vérifier le bon fonctionnement de la prédiction d’intention et de l’extraction d’entité."
   ]
  },
  {
   "cell_type": "code",
   "execution_count": 28,
   "id": "6c77e34e",
   "metadata": {
    "code_folding": [],
    "scrolled": true
   },
   "outputs": [
    {
     "data": {
      "application/vnd.jupyter.widget-view+json": {
       "model_id": "f790642dbf8242fdb58b496bdb4fb868",
       "version_major": 2,
       "version_minor": 0
      },
      "text/plain": [
       "  0%|          | 0/928 [00:00<?, ?it/s]"
      ]
     },
     "metadata": {},
     "output_type": "display_data"
    }
   ],
   "source": [
    "for labeledExampleUtteranceWithMLEntity in tqdm(train_data):\n",
    "    # Add an example for the entity.\n",
    "    # Enable nested children to allow using multiple models with the same name.\n",
    "    # The quantity subentity and the phraselist could have the same exact name if this is set to True\n",
    "    try:\n",
    "        client.examples.add(app_id, versionId, labeledExampleUtteranceWithMLEntity, {\"enableNestedChildren\": True})\n",
    "    except:\n",
    "        pass"
   ]
  },
  {
   "cell_type": "markdown",
   "id": "b0780992",
   "metadata": {},
   "source": [
    "## Entraînement du modèle\n",
    "\n",
    "Une fois le modèle créé, l’application LUIS doit être entraînée pour cette version du modèle. Un modèle entraîné peut être utilisé dans un conteneur ou publié dans les emplacements intermédiaires ou produits.\n",
    "\n",
    "La méthode train.train_version a besoin de l’ID de l’application et de l’ID de version."
   ]
  },
  {
   "cell_type": "code",
   "execution_count": 29,
   "id": "a4043142",
   "metadata": {
    "scrolled": true
   },
   "outputs": [
    {
     "name": "stdout",
     "output_type": "stream",
     "text": [
      "Waiting 10 seconds for training to complete...\n",
      "Waiting 10 seconds for training to complete...\n",
      "Waiting 10 seconds for training to complete...\n",
      "Waiting 10 seconds for training to complete...\n",
      "Waiting 10 seconds for training to complete...\n",
      "Waiting 10 seconds for training to complete...\n",
      "Waiting 10 seconds for training to complete...\n",
      "Waiting 10 seconds for training to complete...\n",
      "Waiting 10 seconds for training to complete...\n",
      "Waiting 10 seconds for training to complete...\n",
      "Waiting 10 seconds for training to complete...\n",
      "Waiting 10 seconds for training to complete...\n",
      "Waiting 10 seconds for training to complete...\n",
      "Waiting 10 seconds for training to complete...\n",
      "Waiting 10 seconds for training to complete...\n",
      "Waiting 10 seconds for training to complete...\n",
      "Waiting 10 seconds for training to complete...\n",
      "Waiting 10 seconds for training to complete...\n",
      "Waiting 10 seconds for training to complete...\n",
      "Waiting 10 seconds for training to complete...\n",
      "Waiting 10 seconds for training to complete...\n",
      "Waiting 10 seconds for training to complete...\n",
      "Waiting 10 seconds for training to complete...\n",
      "Waiting 10 seconds for training to complete...\n",
      "Waiting 10 seconds for training to complete...\n",
      "Waiting 10 seconds for training to complete...\n",
      "Waiting 10 seconds for training to complete...\n",
      "Waiting 10 seconds for training to complete...\n",
      "Waiting 10 seconds for training to complete...\n",
      "Waiting 10 seconds for training to complete...\n",
      "Waiting 10 seconds for training to complete...\n",
      "Waiting 10 seconds for training to complete...\n",
      "Waiting 10 seconds for training to complete...\n",
      "Waiting 10 seconds for training to complete...\n",
      "Waiting 10 seconds for training to complete...\n",
      "Waiting 10 seconds for training to complete...\n",
      "Waiting 10 seconds for training to complete...\n",
      "Waiting 10 seconds for training to complete...\n",
      "Waiting 10 seconds for training to complete...\n",
      "Waiting 10 seconds for training to complete...\n",
      "Waiting 10 seconds for training to complete...\n",
      "Waiting 10 seconds for training to complete...\n",
      "Waiting 10 seconds for training to complete...\n",
      "Waiting 10 seconds for training to complete...\n",
      "Waiting 10 seconds for training to complete...\n",
      "Waiting 10 seconds for training to complete...\n",
      "Waiting 10 seconds for training to complete...\n",
      "Waiting 10 seconds for training to complete...\n",
      "Waiting 10 seconds for training to complete...\n",
      "Waiting 10 seconds for training to complete...\n",
      "Waiting 10 seconds for training to complete...\n",
      "Waiting 10 seconds for training to complete...\n",
      "Waiting 10 seconds for training to complete...\n",
      "Waiting 10 seconds for training to complete...\n",
      "Waiting 10 seconds for training to complete...\n",
      "Waiting 10 seconds for training to complete...\n",
      "Waiting 10 seconds for training to complete...\n",
      "trained\n"
     ]
    }
   ],
   "source": [
    "client.train.train_version(app_id, versionId)\n",
    "waiting = True\n",
    "while waiting:\n",
    "    info = client.train.get_status(app_id, versionId)\n",
    "\n",
    "    # get_status returns a list of training statuses, one for each model. Loop through them and make sure all are done.\n",
    "    waiting = any(map(lambda x: 'Queued' == x.details.status or 'InProgress' == x.details.status, info))\n",
    "    if waiting:\n",
    "        print (\"Waiting 10 seconds for training to complete...\")\n",
    "        time.sleep(10)\n",
    "    else: \n",
    "        print (\"trained\")\n",
    "        waiting = False"
   ]
  },
  {
   "cell_type": "markdown",
   "id": "d5ac3c58",
   "metadata": {},
   "source": [
    "## Publier une application dans l’emplacement de production\n",
    "\n",
    "Publication de l’application LUIS à l’aide de la méthode app.publish. Cela permet de publier la version entraînée actuelle à l’emplacement spécifié au point de terminaison. L'application cliente utilise ce point de terminaison afin d’envoyer des énoncés utilisateur pour la prédiction de l’intention et l’extraction d’entité."
   ]
  },
  {
   "cell_type": "code",
   "execution_count": 30,
   "id": "7360e111",
   "metadata": {},
   "outputs": [
    {
     "data": {
      "text/plain": [
       "<azure.cognitiveservices.language.luis.authoring.models._models_py3.ProductionOrStagingEndpointInfo at 0x20421ce76d0>"
      ]
     },
     "execution_count": 30,
     "metadata": {},
     "output_type": "execute_result"
    }
   ],
   "source": [
    "# Mark the app as public so we can query it using any prediction endpoint.\n",
    "# Note: For production scenarios, you should instead assign the app to your own LUIS prediction endpoint. See:\n",
    "# https://docs.microsoft.com/en-gb/azure/cognitive-services/luis/luis-how-to-azure-subscription#assign-a-resource-to-an-app\n",
    "client.apps.update_settings(app_id, is_public=True)\n",
    "\n",
    "responseEndpointInfo = client.apps.publish(app_id, versionId, is_staging=False)\n",
    "responseEndpointInfo"
   ]
  },
  {
   "cell_type": "markdown",
   "id": "bde001d6",
   "metadata": {},
   "source": [
    "## Authentifier le client du runtime de prédiction"
   ]
  },
  {
   "cell_type": "code",
   "execution_count": 31,
   "id": "bfea39c4",
   "metadata": {},
   "outputs": [
    {
     "data": {
      "text/plain": [
       "<azure.cognitiveservices.language.luis.runtime._luis_runtime_client.LUISRuntimeClient at 0x20421af20a0>"
      ]
     },
     "execution_count": 31,
     "metadata": {},
     "output_type": "execute_result"
    }
   ],
   "source": [
    "runtimeCredentials = CognitiveServicesCredentials(predictionKey)\n",
    "clientRuntime = LUISRuntimeClient(endpoint=predictionEndpoint, credentials=runtimeCredentials)\n",
    "clientRuntime"
   ]
  },
  {
   "cell_type": "markdown",
   "id": "fd5a103f",
   "metadata": {},
   "source": [
    "## Obtenir une prédiction du modèle\n",
    "\n",
    "L’énoncé utilisateur fait partie de l’objet prediction_request.\n",
    "\n",
    "La méthode <code>get_slot_prediction</code> nécessite plusieurs paramètres tels que l’ID de l’application, le nom de l’emplacement et l’objet de requête de prédiction pour traiter la requête. Les autres options que sont verbose (mode détaillé), <code>showAllIntents</code> (afficher toutes les intentions) et <code>log</code> (journal) sont facultatives. La requête retourne un objet <code>PredictionResponse</code>."
   ]
  },
  {
   "cell_type": "code",
   "execution_count": 32,
   "id": "b962ffae",
   "metadata": {},
   "outputs": [],
   "source": [
    "def predict(user_input):\n",
    "\n",
    "    predictionRequest = {\n",
    "        \"query\" : user_input\n",
    "    }\n",
    "    predictionResponse = clientRuntime.prediction.get_slot_prediction(app_id, \"Production\", predictionRequest)\n",
    "\n",
    "    intent = predictionResponse.prediction.top_intent\n",
    "    entities = predictionResponse.prediction.entities\n",
    "    \n",
    "    return intent, entities"
   ]
  },
  {
   "cell_type": "code",
   "execution_count": 33,
   "id": "ec62a61b",
   "metadata": {},
   "outputs": [
    {
     "data": {
      "text/plain": [
       "('BookFlightIntent',\n",
       " {'or_city': ['London'],\n",
       "  'geographyV2': [{'value': 'London', 'type': 'city'},\n",
       "   {'value': 'Paris', 'type': 'city'}],\n",
       "  'dst_city': ['arrival Paris'],\n",
       "  'number': [1000, 2, 3, 4, 1, 2023, 4, 20, 2023],\n",
       "  'budget': ['1000€', '2023'],\n",
       "  'money': [{'number': 1000, 'units': 'Euro'}],\n",
       "  'RestaurantReservation.NumberPeople': ['2'],\n",
       "  'n_adults': ['2'],\n",
       "  'Calendar.StartTime': ['2 adults'],\n",
       "  'Calendar.Message': ['the date 04/01/2023 and return\\nat 04/20/2023.'],\n",
       "  'datetimeV2': [{'type': 'date',\n",
       "    'values': [{'timex': '2023-04-01',\n",
       "      'resolution': [{'value': '2023-04-01'}]}]},\n",
       "   {'type': 'date',\n",
       "    'values': [{'timex': '2023-04-20',\n",
       "      'resolution': [{'value': '2023-04-20'}]}]}]})"
      ]
     },
     "execution_count": 33,
     "metadata": {},
     "output_type": "execute_result"
    }
   ],
   "source": [
    "query=\"\"\"I want to travel from London to arrival Paris. I have a budget of 1000€.\n",
    "For 2 adults and three childrens. Departure at the date 04/01/2023 and return\n",
    "at 04/20/2023.\n",
    "\"\"\"\n",
    "predict(query)"
   ]
  },
  {
   "cell_type": "code",
   "execution_count": 34,
   "id": "35ccf7ac",
   "metadata": {},
   "outputs": [
    {
     "name": "stdout",
     "output_type": "stream",
     "text": [
      "Enter your query: No, please cancel\n"
     ]
    },
    {
     "data": {
      "text/plain": [
       "('Email.Cancel', {})"
      ]
     },
     "execution_count": 34,
     "metadata": {},
     "output_type": "execute_result"
    }
   ],
   "source": [
    "# user_input = input(\"Enter your query: \")\n",
    "# predict(user_input)"
   ]
  },
  {
   "cell_type": "code",
   "execution_count": 35,
   "id": "ece04562",
   "metadata": {},
   "outputs": [
    {
     "name": "stdout",
     "output_type": "stream",
     "text": [
      "Enter your query: Yes, exactly\n"
     ]
    },
    {
     "data": {
      "text/plain": [
       "('Communication.Confirm', {})"
      ]
     },
     "execution_count": 35,
     "metadata": {},
     "output_type": "execute_result"
    }
   ],
   "source": [
    "# user_input = input(\"Enter your query: \")\n",
    "# predict(user_input)"
   ]
  },
  {
   "cell_type": "markdown",
   "id": "991ef22b",
   "metadata": {},
   "source": [
    "## Évaluation du modèle"
   ]
  },
  {
   "cell_type": "code",
   "execution_count": 36,
   "id": "8dd10e0b",
   "metadata": {},
   "outputs": [],
   "source": [
    "with open('data/test.json', 'r') as f:\n",
    "    test_data = json.load(f)"
   ]
  },
  {
   "cell_type": "code",
   "execution_count": 37,
   "id": "045c7f81",
   "metadata": {},
   "outputs": [
    {
     "data": {
      "application/vnd.jupyter.widget-view+json": {
       "model_id": "9fa0bad182ce4720a23ed90e3ae4b53e",
       "version_major": 2,
       "version_minor": 0
      },
      "text/plain": [
       "  0%|          | 0/232 [00:00<?, ?it/s]"
      ]
     },
     "metadata": {},
     "output_type": "display_data"
    }
   ],
   "source": [
    "test_set = []\n",
    "preds = []\n",
    "for utterance in tqdm(test_data):\n",
    "    test_set.append(utterance)\n",
    "    preds.append(predict(utterance[\"text\"]))"
   ]
  },
  {
   "cell_type": "code",
   "execution_count": 38,
   "id": "09047887",
   "metadata": {},
   "outputs": [],
   "source": [
    "def calculate_precision(eval_data, predictions):\n",
    "    # Initialisation des variables pour stocker les résultats\n",
    "    total_correct_predictions = 0\n",
    "    total_predictions = 0\n",
    "    entities_name = [\n",
    "        \"or_city\", \"dst_city\", \"str_date\", \"end_date\", \"budget\", \"n_adults\",\n",
    "        \"n_children\"\n",
    "    ]\n",
    "\n",
    "    # Boucle pour chaque exemple dans les données d'évaluation\n",
    "    for example, prediction in tqdm(\n",
    "        zip(eval_data, predictions),\n",
    "        total=len(predictions),\n",
    "        desc=\"Calcul de la précision\"):\n",
    "        try:\n",
    "            expected_entities = example[\"entityLabels\"]\n",
    "            predicted_entities = prediction[1]\n",
    "\n",
    "            # Boucle pour chaque entité prédite\n",
    "            for entity_name, predicted_values in predicted_entities.items():\n",
    "                if entity_name in entities_name: # Pour ne pas prendre en compte les prebuilts prédits\n",
    "                    total_predictions += len(predicted_values)\n",
    "                    for expected_entity in expected_entities:\n",
    "                        if entity_name == expected_entity[\"entityName\"]:\n",
    "                            expected_value = example[\"text\"][expected_entity[\"startCharIndex\"]:expected_entity[\"endCharIndex\"]+1]\n",
    "                            if expected_value in predicted_values:\n",
    "                                total_correct_predictions += 1\n",
    "        except:\n",
    "            pass\n",
    "        \n",
    "    # Calculer la précision moyenne\n",
    "    average_precision = total_correct_predictions / total_predictions\n",
    "\n",
    "    return average_precision"
   ]
  },
  {
   "cell_type": "code",
   "execution_count": 39,
   "id": "6c6f2c62",
   "metadata": {
    "scrolled": true
   },
   "outputs": [
    {
     "data": {
      "application/vnd.jupyter.widget-view+json": {
       "model_id": "8ffe2a79a33d4c4abe90829429a2b731",
       "version_major": 2,
       "version_minor": 0
      },
      "text/plain": [
       "Calcul de la précision:   0%|          | 0/232 [00:00<?, ?it/s]"
      ]
     },
     "metadata": {},
     "output_type": "display_data"
    },
    {
     "data": {
      "text/plain": [
       "0.8579654510556622"
      ]
     },
     "execution_count": 39,
     "metadata": {},
     "output_type": "execute_result"
    }
   ],
   "source": [
    "model_score = calculate_precision(test_set, preds)\n",
    "model_score"
   ]
  },
  {
   "cell_type": "markdown",
   "id": "3846023d",
   "metadata": {},
   "source": [
    "Le pourcentage de précision est mesuré par le pourcentage d'énoncés pour lesquels l'intention prédite correspond à l'intention étiquetée."
   ]
  },
  {
   "cell_type": "code",
   "execution_count": 40,
   "id": "f03b9346",
   "metadata": {},
   "outputs": [
    {
     "data": {
      "image/png": "[encoded data removed]",
      "text/plain": [
       "<Figure size 600x600 with 1 Axes>"
      ]
     },
     "metadata": {},
     "output_type": "display_data"
    }
   ],
   "source": [
    "fig, ax = plt.subplots(figsize=(6, 6))\n",
    "wedgeprops = {'width':0.4, 'linewidth':3}\n",
    "\n",
    "sizes = round(model_score*100, 2), round(100-model_score*100, 2)\n",
    "\n",
    "patches, _ = ax.pie(sizes, wedgeprops=wedgeprops, startangle=90, colors=['#0078D4', '#A80000'])\n",
    "\n",
    "plt.title('Overall prediction', fontsize=12)\n",
    "plt.text(0, 0, f\"{sizes[0]}%\", ha='center', va='center', fontsize=32)\n",
    "plt.text(0, -0.2, \"correct\", ha='center', va='center', fontsize=16)\n",
    "\n",
    "# legend\n",
    "colors = ['#0078D4', '#A80000']\n",
    "plt.legend(\n",
    "    patches,\n",
    "    [f\"{sizes[0]}% Correct predictions\",\n",
    "     f\"{sizes[1]}% Incorrect or unclear predictions\"],\n",
    "    loc=\"best\")\n",
    "\n",
    "plt.show()"
   ]
  },
  {
   "cell_type": "code",
   "execution_count": null,
   "id": "92897823",
   "metadata": {},
   "outputs": [],
   "source": []
  }
 ],
 "metadata": {
  "kernelspec": {
   "display_name": "Python 3 (ipykernel)",
   "language": "python",
   "name": "python3"
  },
  "language_info": {
   "codemirror_mode": {
    "name": "ipython",
    "version": 3
   },
   "file_extension": ".py",
   "mimetype": "text/x-python",
   "name": "python",
   "nbconvert_exporter": "python",
   "pygments_lexer": "ipython3",
   "version": "3.9.13"
  },
  "toc": {
   "base_numbering": 1,
   "nav_menu": {},
   "number_sections": true,
   "sideBar": true,
   "skip_h1_title": false,
   "title_cell": "Table des Matières",
   "title_sidebar": "Contents",
   "toc_cell": true,
   "toc_position": {
    "height": "calc(100% - 180px)",
    "left": "10px",
    "top": "150px",
    "width": "423px"
   },
   "toc_section_display": true,
   "toc_window_display": true
  }
 },
 "nbformat": 4,
 "nbformat_minor": 5
}
